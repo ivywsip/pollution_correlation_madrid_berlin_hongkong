{
 "cells": [
  {
   "cell_type": "code",
   "execution_count": 1,
   "metadata": {},
   "outputs": [],
   "source": [
    "import pandas as pd\n",
    "import numpy as np\n",
    "from bs4 import BeautifulSoup\n",
    "import requests"
   ]
  },
  {
   "cell_type": "markdown",
   "metadata": {},
   "source": [
    "# Web Scrapping - HK Population 2007-2018\n",
    "\n",
    "Webpage:\n",
    "https://www.ceicdata.com/en/indicator/hong-kong/population"
   ]
  },
  {
   "cell_type": "markdown",
   "metadata": {},
   "source": [
    "The website contains a graph with Hong Kong popuation growth. \n",
    "After inspecting the content, you will see the graph is an image imported from another webpage. \n",
    "\n",
    "Steps:\n",
    "1. Extract the link to the other webpage \n",
    "2. Extract the numbers of the graph (population) from the other webpage\n",
    "3. Convert into DataFrame "
   ]
  },
  {
   "cell_type": "markdown",
   "metadata": {},
   "source": [
    "### 1. Extract the link to the other webpage "
   ]
  },
  {
   "cell_type": "code",
   "execution_count": null,
   "metadata": {},
   "outputs": [],
   "source": []
  },
  {
   "cell_type": "code",
   "execution_count": 2,
   "metadata": {},
   "outputs": [],
   "source": [
    "url = 'https://www.ceicdata.com/en/indicator/hong-kong/population'\n",
    "response = requests.get(url)\n",
    "html_bytes = response.content\n",
    "soup = BeautifulSoup(html_bytes,'html.parser')\n"
   ]
  },
  {
   "cell_type": "code",
   "execution_count": 3,
   "metadata": {},
   "outputs": [
    {
     "data": {
      "text/plain": [
       "'https://www.ceicdata.com/datapage/charts/ipc_hong-kong_population/?type=area&from=2007-12-01&to=2018-12-01&lang=en'"
      ]
     },
     "execution_count": 3,
     "metadata": {},
     "output_type": "execute_result"
    }
   ],
   "source": [
    "hidden_link = (soup\n",
    "               .find('div',class_='datapage-content')\n",
    "               .find('div',class_='charts-container has-loading')\n",
    "               .img['src'])\n",
    "hidden_link"
   ]
  },
  {
   "cell_type": "markdown",
   "metadata": {},
   "source": [
    "### 2. Extract the numbers of the graph (population) from the other webpage"
   ]
  },
  {
   "cell_type": "code",
   "execution_count": 4,
   "metadata": {},
   "outputs": [
    {
     "data": {
      "text/plain": [
       "<?xml version=\"1.0\" standalone=\"no\"?><!DOCTYPE svg PUBLIC \"-//W3C//DTD SVG 1.1//EN\" \"http://www.w3.org/Graphics/SVG/1.1/DTD/svg11.dtd\">\n",
       "<svg class=\"highcharts-root\" height=\"500\" style=\"font-family: 'Lucida Grande', 'Lucida Sans Unicode', Arial, Helvetica, sans-serif; font-size: 12px; background-color: rgba(0, 0, 0, 0);\" version=\"1.1\" width=\"1200\" xmlns=\"http://www.w3.org/2000/svg\" xmlns:xlink=\"http://www.w3.org/1999/xlink\"><desc>Created with Highcharts 6.2.0</desc><defs><clippath id=\"highcharts-io67g3j-1\"><rect fill=\"none\" height=\"398\" width=\"1113\" x=\"0\" y=\"0\"></rect></clippath></defs><rect class=\"highcharts-background\" fill=\"rgba(255, 255, 255, 0.0)\" height=\"500\" rx=\"0\" ry=\"0\" width=\"1180\" x=\"0\" y=\"0\"></rect><rect class=\"highcharts-plot-background\" fill=\"none\" height=\"398\" width=\"1113\" x=\"57\" y=\"10\"></rect><g class=\"highcharts-grid highcharts-xaxis-grid\" data-z-index=\"1\"><path class=\"highcharts-grid-line\" d=\"M 67.5 10 L 67.5 408\" data-z-index=\"1\" fill=\"none\" opacity=\"1\" stroke-dasharray=\"none\"></path><path class=\"highcharts-grid-line\" d=\"M 166.5 10 L 166.5 408\" data-z-index=\"1\" fill=\"none\" opacity=\"1\" stroke-dasharray=\"none\"></path><path class=\"highcharts-grid-line\" d=\"M 265.5 10 L 265.5 408\" data-z-index=\"1\" fill=\"none\" opacity=\"1\" stroke-dasharray=\"none\"></path><path class=\"highcharts-grid-line\" d=\"M 365.5 10 L 365.5 408\" data-z-index=\"1\" fill=\"none\" opacity=\"1\" stroke-dasharray=\"none\"></path><path class=\"highcharts-grid-line\" d=\"M 464.5 10 L 464.5 408\" data-z-index=\"1\" fill=\"none\" opacity=\"1\" stroke-dasharray=\"none\"></path><path class=\"highcharts-grid-line\" d=\"M 563.5 10 L 563.5 408\" data-z-index=\"1\" fill=\"none\" opacity=\"1\" stroke-dasharray=\"none\"></path><path class=\"highcharts-grid-line\" d=\"M 662.5 10 L 662.5 408\" data-z-index=\"1\" fill=\"none\" opacity=\"1\" stroke-dasharray=\"none\"></path><path class=\"highcharts-grid-line\" d=\"M 761.5 10 L 761.5 408\" data-z-index=\"1\" fill=\"none\" opacity=\"1\" stroke-dasharray=\"none\"></path><path class=\"highcharts-grid-line\" d=\"M 860.5 10 L 860.5 408\" data-z-index=\"1\" fill=\"none\" opacity=\"1\" stroke-dasharray=\"none\"></path><path class=\"highcharts-grid-line\" d=\"M 960.5 10 L 960.5 408\" data-z-index=\"1\" fill=\"none\" opacity=\"1\" stroke-dasharray=\"none\"></path><path class=\"highcharts-grid-line\" d=\"M 1059.5 10 L 1059.5 408\" data-z-index=\"1\" fill=\"none\" opacity=\"1\" stroke-dasharray=\"none\"></path><path class=\"highcharts-grid-line\" d=\"M 1158.5 10 L 1158.5 408\" data-z-index=\"1\" fill=\"none\" opacity=\"1\" stroke-dasharray=\"none\"></path></g><g class=\"highcharts-grid highcharts-yaxis-grid\" data-z-index=\"1\"><path class=\"highcharts-grid-line\" d=\"M 57 408.5 L 1170 408.5\" data-z-index=\"1\" fill=\"none\" opacity=\"1\" stroke=\"rgba(216,216,216,1)\" stroke-dasharray=\"8,3\" stroke-width=\"1\"></path><path class=\"highcharts-grid-line\" d=\"M 57 351.5 L 1170 351.5\" data-z-index=\"1\" fill=\"none\" opacity=\"1\" stroke=\"rgba(216,216,216,1)\" stroke-dasharray=\"8,3\" stroke-width=\"1\"></path><path class=\"highcharts-grid-line\" d=\"M 57 294.5 L 1170 294.5\" data-z-index=\"1\" fill=\"none\" opacity=\"1\" stroke=\"rgba(216,216,216,1)\" stroke-dasharray=\"8,3\" stroke-width=\"1\"></path><path class=\"highcharts-grid-line\" d=\"M 57 237.5 L 1170 237.5\" data-z-index=\"1\" fill=\"none\" opacity=\"1\" stroke=\"rgba(216,216,216,1)\" stroke-dasharray=\"8,3\" stroke-width=\"1\"></path><path class=\"highcharts-grid-line\" d=\"M 57 181.5 L 1170 181.5\" data-z-index=\"1\" fill=\"none\" opacity=\"1\" stroke=\"rgba(216,216,216,1)\" stroke-dasharray=\"8,3\" stroke-width=\"1\"></path><path class=\"highcharts-grid-line\" d=\"M 57 124.5 L 1170 124.5\" data-z-index=\"1\" fill=\"none\" opacity=\"1\" stroke=\"rgba(216,216,216,1)\" stroke-dasharray=\"8,3\" stroke-width=\"1\"></path><path class=\"highcharts-grid-line\" d=\"M 57 67.5 L 1170 67.5\" data-z-index=\"1\" fill=\"none\" opacity=\"1\" stroke=\"rgba(216,216,216,1)\" stroke-dasharray=\"8,3\" stroke-width=\"1\"></path><path class=\"highcharts-grid-line\" d=\"M 57 9.5 L 1170 9.5\" data-z-index=\"1\" fill=\"none\" opacity=\"1\" stroke=\"rgba(216,216,216,1)\" stroke-dasharray=\"8,3\" stroke-width=\"1\"></path></g><rect class=\"highcharts-plot-border\" data-z-index=\"1\" fill=\"none\" height=\"398\" width=\"1113\" x=\"57\" y=\"10\"></rect><g class=\"highcharts-axis highcharts-xaxis\" data-z-index=\"2\"><path class=\"highcharts-axis-line\" d=\"M 57 408 L 1170 408\" data-z-index=\"7\" fill=\"none\"></path></g><g class=\"highcharts-axis highcharts-yaxis\" data-z-index=\"2\"><path class=\"highcharts-axis-line\" d=\"M 57 10 L 57 408\" data-z-index=\"7\" fill=\"none\"></path></g><g class=\"highcharts-series-group\" data-z-index=\"3\"><g class=\"highcharts-series highcharts-series-0 highcharts-area-series\" clip-path=\"url(#highcharts-io67g3j-1)\" data-z-index=\"0.1\" transform=\"translate(57,10) scale(1 1)\"><path class=\"highcharts-area\" d=\"M 10.911764705882 376.1668571428575 L 110.03556056569 361.668285714286 L 209.43092846895 343.1897142857142 L 308.55472432876 311.5202857142857 L 407.67852018856 278.88428571428597 L 506.80231604837 243.91714285714275 L 606.19768395163 221.23114285714308 L 705.32147981144 197.35114285714266 L 804.44527567124 165.0562857142855 L 903.56907153105 126.73457142857114 L 1002.9644394343 106.2659999999999 L 1102.0882352941 64.58971428571431 L 1102.0882352941 398 L 1002.9644394343 398 L 903.56907153105 398 L 804.44527567124 398 L 705.32147981144 398 L 606.19768395163 398 L 506.80231604837 398 L 407.67852018856 398 L 308.55472432876 398 L 209.43092846895 398 L 110.03556056569 398 L 10.911764705882 398\" data-z-index=\"0\" fill=\"rgba(121,45,130,0.75)\"></path><path class=\"highcharts-graph\" d=\"M 10.911764705882 376.1668571428575 L 110.03556056569 361.668285714286 L 209.43092846895 343.1897142857142 L 308.55472432876 311.5202857142857 L 407.67852018856 278.88428571428597 L 506.80231604837 243.91714285714275 L 606.19768395163 221.23114285714308 L 705.32147981144 197.35114285714266 L 804.44527567124 165.0562857142855 L 903.56907153105 126.73457142857114 L 1002.9644394343 106.2659999999999 L 1102.0882352941 64.58971428571431\" data-z-index=\"1\" fill=\"none\" stroke=\"#792D82\" stroke-linecap=\"round\" stroke-linejoin=\"round\" stroke-width=\"2\"></path><path class=\"highcharts-tracker-line\" d=\"M 0.9117647058819998 376.1668571428575 L 10.911764705882 376.1668571428575 L 110.03556056569 361.668285714286 L 209.43092846895 343.1897142857142 L 308.55472432876 311.5202857142857 L 407.67852018856 278.88428571428597 L 506.80231604837 243.91714285714275 L 606.19768395163 221.23114285714308 L 705.32147981144 197.35114285714266 L 804.44527567124 165.0562857142855 L 903.56907153105 126.73457142857114 L 1002.9644394343 106.2659999999999 L 1102.0882352941 64.58971428571431 L 1112.0882352941 64.58971428571431\" data-z-index=\"2\" fill=\"none\" stroke=\"rgba(192,192,192,0.0001)\" stroke-linejoin=\"round\" stroke-width=\"22\" visibility=\"visible\"></path></g><g class=\"highcharts-markers highcharts-series-0 highcharts-area-series highcharts-tracker\" clip-path=\"none\" data-z-index=\"0.1\" transform=\"translate(57,10) scale(1 1)\"></g></g><text class=\"highcharts-title\" data-z-index=\"4\" style=\"color:#333333;font-size:18px;fill:#333333;\" text-anchor=\"middle\" x=\"590\" y=\"24\"></text><text class=\"highcharts-subtitle\" data-z-index=\"4\" style=\"color:#666666;fill:#666666;\" text-anchor=\"middle\" x=\"590\" y=\"24\"></text><g class=\"highcharts-data-labels highcharts-series-0 highcharts-area-series\" data-z-index=\"6\" transform=\"translate(57,10) scale(1 1)\" visibility=\"visible\"><g class=\"highcharts-label highcharts-data-label highcharts-data-label-color-undefined\" data-z-index=\"1\" transform=\"translate(-5,344)\"><text data-z-index=\"1\" style=\"font-size:18px;font-weight:normal;color:#000000;fill:#000000;\" x=\"5\" y=\"22\"><tspan class=\"highcharts-text-outline\" fill=\"#FFFFFF\" stroke=\"#FFFFFF\" stroke-linejoin=\"round\" stroke-width=\"2px\" style=\"\" x=\"5\" y=\"22\">6.938</tspan><tspan x=\"5\" y=\"22\">6.938</tspan></text></g><g class=\"highcharts-label highcharts-data-label highcharts-data-label-color-undefined\" data-z-index=\"1\" transform=\"translate(79,330)\"><text data-z-index=\"1\" style=\"font-size:18px;font-weight:normal;color:#000000;fill:#000000;\" x=\"5\" y=\"22\"><tspan class=\"highcharts-text-outline\" fill=\"#FFFFFF\" stroke=\"#FFFFFF\" stroke-linejoin=\"round\" stroke-width=\"2px\" x=\"5\" y=\"22\">6.964</tspan><tspan x=\"5\" y=\"22\">6.964</tspan></text></g><g class=\"highcharts-label highcharts-data-label highcharts-data-label-color-undefined\" data-z-index=\"1\" transform=\"translate(179,311)\"><text data-z-index=\"1\" style=\"font-size:18px;font-weight:normal;color:#000000;fill:#000000;\" x=\"5\" y=\"22\"><tspan class=\"highcharts-text-outline\" fill=\"#FFFFFF\" stroke=\"#FFFFFF\" stroke-linejoin=\"round\" stroke-width=\"2px\" x=\"5\" y=\"22\">6.996</tspan><tspan x=\"5\" y=\"22\">6.996</tspan></text></g><g class=\"highcharts-label highcharts-data-label highcharts-data-label-color-undefined\" data-z-index=\"1\" transform=\"translate(278,280)\"><text data-z-index=\"1\" style=\"font-size:18px;font-weight:normal;color:#000000;fill:#000000;\" x=\"5\" y=\"22\"><tspan class=\"highcharts-text-outline\" fill=\"#FFFFFF\" stroke=\"#FFFFFF\" stroke-linejoin=\"round\" stroke-width=\"2px\" x=\"5\" y=\"22\">7.052</tspan><tspan x=\"5\" y=\"22\">7.052</tspan></text></g><g class=\"highcharts-label highcharts-data-label highcharts-data-label-color-undefined\" data-z-index=\"1\" transform=\"translate(377,247)\"><text data-z-index=\"1\" style=\"font-size:18px;font-weight:normal;color:#000000;fill:#000000;\" x=\"5\" y=\"22\"><tspan class=\"highcharts-text-outline\" fill=\"#FFFFFF\" stroke=\"#FFFFFF\" stroke-linejoin=\"round\" stroke-width=\"2px\" x=\"5\" y=\"22\">7.110</tspan><tspan x=\"5\" y=\"22\">7.110</tspan></text></g><g class=\"highcharts-label highcharts-data-label highcharts-data-label-color-undefined\" data-z-index=\"1\" transform=\"translate(476,212)\"><text data-z-index=\"1\" style=\"font-size:18px;font-weight:normal;color:#000000;fill:#000000;\" x=\"5\" y=\"22\"><tspan class=\"highcharts-text-outline\" fill=\"#FFFFFF\" stroke=\"#FFFFFF\" stroke-linejoin=\"round\" stroke-width=\"2px\" x=\"5\" y=\"22\">7.171</tspan><tspan x=\"5\" y=\"22\">7.171</tspan></text></g><g class=\"highcharts-label highcharts-data-label highcharts-data-label-color-undefined\" data-z-index=\"1\" transform=\"translate(575,189)\"><text data-z-index=\"1\" style=\"font-size:18px;font-weight:normal;color:#000000;fill:#000000;\" x=\"5\" y=\"22\"><tspan class=\"highcharts-text-outline\" fill=\"#FFFFFF\" stroke=\"#FFFFFF\" stroke-linejoin=\"round\" stroke-width=\"2px\" x=\"5\" y=\"22\">7.211</tspan><tspan x=\"5\" y=\"22\">7.211</tspan></text></g><g class=\"highcharts-label highcharts-data-label highcharts-data-label-color-undefined\" data-z-index=\"1\" transform=\"translate(675,165)\"><text data-z-index=\"1\" style=\"font-size:18px;font-weight:normal;color:#000000;fill:#000000;\" x=\"5\" y=\"22\"><tspan class=\"highcharts-text-outline\" fill=\"#FFFFFF\" stroke=\"#FFFFFF\" stroke-linejoin=\"round\" stroke-width=\"2px\" x=\"5\" y=\"22\">7.253</tspan><tspan x=\"5\" y=\"22\">7.253</tspan></text></g><g class=\"highcharts-label highcharts-data-label highcharts-data-label-color-undefined\" data-z-index=\"1\" transform=\"translate(774,133)\"><text data-z-index=\"1\" style=\"font-size:18px;font-weight:normal;color:#000000;fill:#000000;\" x=\"5\" y=\"22\"><tspan class=\"highcharts-text-outline\" fill=\"#FFFFFF\" stroke=\"#FFFFFF\" stroke-linejoin=\"round\" stroke-width=\"2px\" x=\"5\" y=\"22\">7.310</tspan><tspan x=\"5\" y=\"22\">7.310</tspan></text></g><g class=\"highcharts-label highcharts-data-label highcharts-data-label-color-undefined\" data-z-index=\"1\" transform=\"translate(873,95)\"><text data-z-index=\"1\" style=\"font-size:18px;font-weight:normal;color:#000000;fill:#000000;\" x=\"5\" y=\"22\"><tspan class=\"highcharts-text-outline\" fill=\"#FFFFFF\" stroke=\"#FFFFFF\" stroke-linejoin=\"round\" stroke-width=\"2px\" x=\"5\" y=\"22\">7.377</tspan><tspan x=\"5\" y=\"22\">7.377</tspan></text></g><g class=\"highcharts-label highcharts-data-label highcharts-data-label-color-undefined\" data-z-index=\"1\" transform=\"translate(972,74)\"><text data-z-index=\"1\" style=\"font-size:18px;font-weight:normal;color:#000000;fill:#000000;\" x=\"5\" y=\"22\"><tspan class=\"highcharts-text-outline\" fill=\"#FFFFFF\" stroke=\"#FFFFFF\" stroke-linejoin=\"round\" stroke-width=\"2px\" x=\"5\" y=\"22\">7.413</tspan><tspan x=\"5\" y=\"22\">7.413</tspan></text></g><g class=\"highcharts-label highcharts-data-label highcharts-data-label-color-undefined\" data-z-index=\"1\" transform=\"translate(1057,33)\"><text data-z-index=\"1\" style=\"font-size:18px;font-weight:normal;color:#000000;fill:#000000;\" x=\"5\" y=\"22\"><tspan class=\"highcharts-text-outline\" fill=\"#FFFFFF\" stroke=\"#FFFFFF\" stroke-linejoin=\"round\" stroke-width=\"2px\" x=\"5\" y=\"22\">7.486</tspan><tspan x=\"5\" y=\"22\">7.486</tspan></text></g></g><g class=\"highcharts-legend\" data-z-index=\"7\" transform=\"translate(405,452)\"><rect class=\"highcharts-legend-box\" fill=\"none\" height=\"33\" rx=\"0\" ry=\"0\" visibility=\"visible\" width=\"369\" x=\"0\" y=\"0\"></rect><g data-z-index=\"1\"><g><g class=\"highcharts-legend-item highcharts-area-series highcharts-color-undefined highcharts-series-0\" data-z-index=\"1\" transform=\"translate(8,3)\"><text data-z-index=\"2\" style=\"color:#7c7c7c;font-size:18px;font-weight:bold;cursor:pointer;fill:#7c7c7c;\" text-anchor=\"start\" x=\"27\" y=\"21\"><tspan>Population: mn: Hong Kong SAR</tspan></text><rect class=\"highcharts-point\" data-z-index=\"3\" fill=\"#792D82\" height=\"14\" width=\"22\" x=\"0\" y=\"8\"></rect></g></g></g></g><g class=\"highcharts-axis-labels highcharts-xaxis-labels\" data-z-index=\"7\"><text opacity=\"1\" style=\"color:rgb(112, 112, 112);cursor:default;font-size:20px;fill:rgb(112, 112, 112);\" text-anchor=\"middle\" transform=\"translate(0,0)\" x=\"67.911764705882\" y=\"434\">2007</text><text opacity=\"1\" style=\"color:rgb(112, 112, 112);cursor:default;font-size:20px;fill:rgb(112, 112, 112);\" text-anchor=\"middle\" transform=\"translate(0,0)\" x=\"167.03556056569\" y=\"434\">2008</text><text opacity=\"1\" style=\"color:rgb(112, 112, 112);cursor:default;font-size:20px;fill:rgb(112, 112, 112);\" text-anchor=\"middle\" transform=\"translate(0,0)\" x=\"266.43092846895\" y=\"434\">2009</text><text opacity=\"1\" style=\"color:rgb(112, 112, 112);cursor:default;font-size:20px;fill:rgb(112, 112, 112);\" text-anchor=\"middle\" transform=\"translate(0,0)\" x=\"365.55472432876\" y=\"434\">2010</text><text opacity=\"1\" style=\"color:rgb(112, 112, 112);cursor:default;font-size:20px;fill:rgb(112, 112, 112);\" text-anchor=\"middle\" transform=\"translate(0,0)\" x=\"464.67852018856\" y=\"434\">2011</text><text opacity=\"1\" style=\"color:rgb(112, 112, 112);cursor:default;font-size:20px;fill:rgb(112, 112, 112);\" text-anchor=\"middle\" transform=\"translate(0,0)\" x=\"563.80231604837\" y=\"434\">2012</text><text opacity=\"1\" style=\"color:rgb(112, 112, 112);cursor:default;font-size:20px;fill:rgb(112, 112, 112);\" text-anchor=\"middle\" transform=\"translate(0,0)\" x=\"663.19768395163\" y=\"434\">2013</text><text opacity=\"1\" style=\"color:rgb(112, 112, 112);cursor:default;font-size:20px;fill:rgb(112, 112, 112);\" text-anchor=\"middle\" transform=\"translate(0,0)\" x=\"762.32147981144\" y=\"434\">2014</text><text opacity=\"1\" style=\"color:rgb(112, 112, 112);cursor:default;font-size:20px;fill:rgb(112, 112, 112);\" text-anchor=\"middle\" transform=\"translate(0,0)\" x=\"861.44527567124\" y=\"434\">2015</text><text opacity=\"1\" style=\"color:rgb(112, 112, 112);cursor:default;font-size:20px;fill:rgb(112, 112, 112);\" text-anchor=\"middle\" transform=\"translate(0,0)\" x=\"960.56907153105\" y=\"434\">2016</text><text opacity=\"1\" style=\"color:rgb(112, 112, 112);cursor:default;font-size:20px;fill:rgb(112, 112, 112);\" text-anchor=\"middle\" transform=\"translate(0,0)\" x=\"1059.9644394343\" y=\"434\">2017</text><text opacity=\"1\" style=\"color:rgb(112, 112, 112);cursor:default;font-size:20px;fill:rgb(112, 112, 112);\" text-anchor=\"middle\" transform=\"translate(0,0)\" x=\"1159.0882352941\" y=\"434\">2018</text></g><g class=\"highcharts-axis-labels highcharts-yaxis-labels\" data-z-index=\"7\"><text opacity=\"1\" style=\"color:rgb(112, 112, 112);cursor:default;font-size:20px;fill:rgb(112, 112, 112);\" text-anchor=\"end\" transform=\"translate(0,0)\" x=\"42\" y=\"414\">6.9</text><text opacity=\"1\" style=\"color:rgb(112, 112, 112);cursor:default;font-size:20px;fill:rgb(112, 112, 112);\" text-anchor=\"end\" transform=\"translate(0,0)\" x=\"42\" y=\"357\">7</text><text opacity=\"1\" style=\"color:rgb(112, 112, 112);cursor:default;font-size:20px;fill:rgb(112, 112, 112);\" text-anchor=\"end\" transform=\"translate(0,0)\" x=\"42\" y=\"300\">7.1</text><text opacity=\"1\" style=\"color:rgb(112, 112, 112);cursor:default;font-size:20px;fill:rgb(112, 112, 112);\" text-anchor=\"end\" transform=\"translate(0,0)\" x=\"42\" y=\"243\">7.2</text><text opacity=\"1\" style=\"color:rgb(112, 112, 112);cursor:default;font-size:20px;fill:rgb(112, 112, 112);\" text-anchor=\"end\" transform=\"translate(0,0)\" x=\"42\" y=\"187\">7.3</text><text opacity=\"1\" style=\"color:rgb(112, 112, 112);cursor:default;font-size:20px;fill:rgb(112, 112, 112);\" text-anchor=\"end\" transform=\"translate(0,0)\" x=\"42\" y=\"130\">7.4</text><text opacity=\"1\" style=\"color:rgb(112, 112, 112);cursor:default;font-size:20px;fill:rgb(112, 112, 112);\" text-anchor=\"end\" transform=\"translate(0,0)\" x=\"42\" y=\"73\">7.5</text><text opacity=\"1\" style=\"color:rgb(112, 112, 112);cursor:default;font-size:20px;fill:rgb(112, 112, 112);\" text-anchor=\"end\" transform=\"translate(0,0)\" x=\"42\" y=\"16\">7.6</text></g><text class=\"highcharts-credits\" data-z-index=\"8\" style=\"cursor:pointer;color:#999999;font-size:12px;fill:#999999;\" text-anchor=\"end\" x=\"1170\" y=\"495\"><tspan>SOURCE: WWW.CEICDATA.COM | CEIC Data</tspan></text></svg>"
      ]
     },
     "execution_count": 4,
     "metadata": {},
     "output_type": "execute_result"
    }
   ],
   "source": [
    "response_1 = requests.get(hidden_link)\n",
    "html_bytes_1 = response_1.content\n",
    "soup_1 = BeautifulSoup(html_bytes_1,'html.parser')\n",
    "soup_1"
   ]
  },
  {
   "cell_type": "code",
   "execution_count": 5,
   "metadata": {},
   "outputs": [
    {
     "data": {
      "text/plain": [
       "['6.938']"
      ]
     },
     "execution_count": 5,
     "metadata": {},
     "output_type": "execute_result"
    }
   ],
   "source": [
    "# Try out with first number\n",
    "(soup_1\n",
    ".find('g',class_=\"highcharts-data-labels highcharts-series-0 highcharts-area-series\")\n",
    ".find('g',class_=\"highcharts-label highcharts-data-label highcharts-data-label-color-undefined\")\n",
    ".tspan.contents)"
   ]
  },
  {
   "cell_type": "code",
   "execution_count": 6,
   "metadata": {},
   "outputs": [],
   "source": [
    "broth = (soup_1\n",
    "         .find('g',class_=\"highcharts-data-labels highcharts-series-0 highcharts-area-series\")\n",
    "         .find_all('g',class_=\"highcharts-label highcharts-data-label highcharts-data-label-color-undefined\"))\n",
    "\n",
    "population = []\n",
    "\n",
    "for b in broth:\n",
    "    population.append(b.tspan.contents[0])"
   ]
  },
  {
   "cell_type": "code",
   "execution_count": 7,
   "metadata": {},
   "outputs": [
    {
     "data": {
      "text/plain": [
       "['6.938',\n",
       " '6.964',\n",
       " '6.996',\n",
       " '7.052',\n",
       " '7.110',\n",
       " '7.171',\n",
       " '7.211',\n",
       " '7.253',\n",
       " '7.310',\n",
       " '7.377',\n",
       " '7.413',\n",
       " '7.486']"
      ]
     },
     "execution_count": 7,
     "metadata": {},
     "output_type": "execute_result"
    }
   ],
   "source": [
    "population"
   ]
  },
  {
   "cell_type": "markdown",
   "metadata": {},
   "source": [
    "### 3. Convert to DataFrame"
   ]
  },
  {
   "cell_type": "code",
   "execution_count": 8,
   "metadata": {},
   "outputs": [],
   "source": [
    "population_dict={}\n",
    "count=0\n",
    "\n",
    "for year in range(2007,2019):\n",
    "    population_dict[year]=population[count]\n",
    "    count+=1"
   ]
  },
  {
   "cell_type": "code",
   "execution_count": 9,
   "metadata": {},
   "outputs": [
    {
     "data": {
      "text/plain": [
       "{2007: '6.938',\n",
       " 2008: '6.964',\n",
       " 2009: '6.996',\n",
       " 2010: '7.052',\n",
       " 2011: '7.110',\n",
       " 2012: '7.171',\n",
       " 2013: '7.211',\n",
       " 2014: '7.253',\n",
       " 2015: '7.310',\n",
       " 2016: '7.377',\n",
       " 2017: '7.413',\n",
       " 2018: '7.486'}"
      ]
     },
     "execution_count": 9,
     "metadata": {},
     "output_type": "execute_result"
    }
   ],
   "source": [
    "population_dict"
   ]
  },
  {
   "cell_type": "code",
   "execution_count": 12,
   "metadata": {},
   "outputs": [
    {
     "data": {
      "text/html": [
       "<div>\n",
       "<style scoped>\n",
       "    .dataframe tbody tr th:only-of-type {\n",
       "        vertical-align: middle;\n",
       "    }\n",
       "\n",
       "    .dataframe tbody tr th {\n",
       "        vertical-align: top;\n",
       "    }\n",
       "\n",
       "    .dataframe thead th {\n",
       "        text-align: right;\n",
       "    }\n",
       "</style>\n",
       "<table border=\"1\" class=\"dataframe\">\n",
       "  <thead>\n",
       "    <tr style=\"text-align: right;\">\n",
       "      <th></th>\n",
       "      <th>year</th>\n",
       "      <th>population</th>\n",
       "    </tr>\n",
       "  </thead>\n",
       "  <tbody>\n",
       "    <tr>\n",
       "      <th>0</th>\n",
       "      <td>2007</td>\n",
       "      <td>6.938</td>\n",
       "    </tr>\n",
       "    <tr>\n",
       "      <th>1</th>\n",
       "      <td>2008</td>\n",
       "      <td>6.964</td>\n",
       "    </tr>\n",
       "    <tr>\n",
       "      <th>2</th>\n",
       "      <td>2009</td>\n",
       "      <td>6.996</td>\n",
       "    </tr>\n",
       "    <tr>\n",
       "      <th>3</th>\n",
       "      <td>2010</td>\n",
       "      <td>7.052</td>\n",
       "    </tr>\n",
       "    <tr>\n",
       "      <th>4</th>\n",
       "      <td>2011</td>\n",
       "      <td>7.110</td>\n",
       "    </tr>\n",
       "    <tr>\n",
       "      <th>5</th>\n",
       "      <td>2012</td>\n",
       "      <td>7.171</td>\n",
       "    </tr>\n",
       "    <tr>\n",
       "      <th>6</th>\n",
       "      <td>2013</td>\n",
       "      <td>7.211</td>\n",
       "    </tr>\n",
       "    <tr>\n",
       "      <th>7</th>\n",
       "      <td>2014</td>\n",
       "      <td>7.253</td>\n",
       "    </tr>\n",
       "    <tr>\n",
       "      <th>8</th>\n",
       "      <td>2015</td>\n",
       "      <td>7.310</td>\n",
       "    </tr>\n",
       "    <tr>\n",
       "      <th>9</th>\n",
       "      <td>2016</td>\n",
       "      <td>7.377</td>\n",
       "    </tr>\n",
       "    <tr>\n",
       "      <th>10</th>\n",
       "      <td>2017</td>\n",
       "      <td>7.413</td>\n",
       "    </tr>\n",
       "    <tr>\n",
       "      <th>11</th>\n",
       "      <td>2018</td>\n",
       "      <td>7.486</td>\n",
       "    </tr>\n",
       "  </tbody>\n",
       "</table>\n",
       "</div>"
      ],
      "text/plain": [
       "    year population\n",
       "0   2007      6.938\n",
       "1   2008      6.964\n",
       "2   2009      6.996\n",
       "3   2010      7.052\n",
       "4   2011      7.110\n",
       "5   2012      7.171\n",
       "6   2013      7.211\n",
       "7   2014      7.253\n",
       "8   2015      7.310\n",
       "9   2016      7.377\n",
       "10  2017      7.413\n",
       "11  2018      7.486"
      ]
     },
     "execution_count": 12,
     "metadata": {},
     "output_type": "execute_result"
    }
   ],
   "source": [
    "hk_pop = pd.DataFrame(list(population_dict.items()), columns=['year', 'population'])\n",
    "hk_pop"
   ]
  },
  {
   "cell_type": "code",
   "execution_count": 13,
   "metadata": {},
   "outputs": [],
   "source": [
    "# formatting population numbers\n",
    "hk_pop['population'] = hk_pop['population'].str.replace('.','').astype(int)\n",
    "hk_pop['population']=hk_pop['population']*1000"
   ]
  },
  {
   "cell_type": "code",
   "execution_count": 14,
   "metadata": {},
   "outputs": [
    {
     "data": {
      "text/html": [
       "<div>\n",
       "<style scoped>\n",
       "    .dataframe tbody tr th:only-of-type {\n",
       "        vertical-align: middle;\n",
       "    }\n",
       "\n",
       "    .dataframe tbody tr th {\n",
       "        vertical-align: top;\n",
       "    }\n",
       "\n",
       "    .dataframe thead th {\n",
       "        text-align: right;\n",
       "    }\n",
       "</style>\n",
       "<table border=\"1\" class=\"dataframe\">\n",
       "  <thead>\n",
       "    <tr style=\"text-align: right;\">\n",
       "      <th></th>\n",
       "      <th>year</th>\n",
       "      <th>population</th>\n",
       "      <th>city</th>\n",
       "    </tr>\n",
       "  </thead>\n",
       "  <tbody>\n",
       "    <tr>\n",
       "      <th>0</th>\n",
       "      <td>2007</td>\n",
       "      <td>6938000</td>\n",
       "      <td>hong kong</td>\n",
       "    </tr>\n",
       "    <tr>\n",
       "      <th>1</th>\n",
       "      <td>2008</td>\n",
       "      <td>6964000</td>\n",
       "      <td>hong kong</td>\n",
       "    </tr>\n",
       "    <tr>\n",
       "      <th>2</th>\n",
       "      <td>2009</td>\n",
       "      <td>6996000</td>\n",
       "      <td>hong kong</td>\n",
       "    </tr>\n",
       "    <tr>\n",
       "      <th>3</th>\n",
       "      <td>2010</td>\n",
       "      <td>7052000</td>\n",
       "      <td>hong kong</td>\n",
       "    </tr>\n",
       "    <tr>\n",
       "      <th>4</th>\n",
       "      <td>2011</td>\n",
       "      <td>7110000</td>\n",
       "      <td>hong kong</td>\n",
       "    </tr>\n",
       "    <tr>\n",
       "      <th>5</th>\n",
       "      <td>2012</td>\n",
       "      <td>7171000</td>\n",
       "      <td>hong kong</td>\n",
       "    </tr>\n",
       "    <tr>\n",
       "      <th>6</th>\n",
       "      <td>2013</td>\n",
       "      <td>7211000</td>\n",
       "      <td>hong kong</td>\n",
       "    </tr>\n",
       "    <tr>\n",
       "      <th>7</th>\n",
       "      <td>2014</td>\n",
       "      <td>7253000</td>\n",
       "      <td>hong kong</td>\n",
       "    </tr>\n",
       "    <tr>\n",
       "      <th>8</th>\n",
       "      <td>2015</td>\n",
       "      <td>7310000</td>\n",
       "      <td>hong kong</td>\n",
       "    </tr>\n",
       "    <tr>\n",
       "      <th>9</th>\n",
       "      <td>2016</td>\n",
       "      <td>7377000</td>\n",
       "      <td>hong kong</td>\n",
       "    </tr>\n",
       "    <tr>\n",
       "      <th>10</th>\n",
       "      <td>2017</td>\n",
       "      <td>7413000</td>\n",
       "      <td>hong kong</td>\n",
       "    </tr>\n",
       "    <tr>\n",
       "      <th>11</th>\n",
       "      <td>2018</td>\n",
       "      <td>7486000</td>\n",
       "      <td>hong kong</td>\n",
       "    </tr>\n",
       "  </tbody>\n",
       "</table>\n",
       "</div>"
      ],
      "text/plain": [
       "    year  population       city\n",
       "0   2007     6938000  hong kong\n",
       "1   2008     6964000  hong kong\n",
       "2   2009     6996000  hong kong\n",
       "3   2010     7052000  hong kong\n",
       "4   2011     7110000  hong kong\n",
       "5   2012     7171000  hong kong\n",
       "6   2013     7211000  hong kong\n",
       "7   2014     7253000  hong kong\n",
       "8   2015     7310000  hong kong\n",
       "9   2016     7377000  hong kong\n",
       "10  2017     7413000  hong kong\n",
       "11  2018     7486000  hong kong"
      ]
     },
     "execution_count": 14,
     "metadata": {},
     "output_type": "execute_result"
    }
   ],
   "source": [
    "# adding 'city' column\n",
    "hk_pop = hk_pop.assign(city='hong kong')\n",
    "hk_pop"
   ]
  },
  {
   "cell_type": "code",
   "execution_count": 15,
   "metadata": {},
   "outputs": [],
   "source": [
    "hk_pop.to_pickle('.././pickles/hk_population.pkl')"
   ]
  }
 ],
 "metadata": {
  "kernelspec": {
   "display_name": "Python 3",
   "language": "python",
   "name": "python3"
  },
  "language_info": {
   "codemirror_mode": {
    "name": "ipython",
    "version": 3
   },
   "file_extension": ".py",
   "mimetype": "text/x-python",
   "name": "python",
   "nbconvert_exporter": "python",
   "pygments_lexer": "ipython3",
   "version": "3.7.4"
  }
 },
 "nbformat": 4,
 "nbformat_minor": 2
}
