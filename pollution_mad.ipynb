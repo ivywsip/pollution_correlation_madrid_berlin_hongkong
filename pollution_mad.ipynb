{
 "cells": [
  {
   "cell_type": "code",
   "execution_count": 1,
   "metadata": {},
   "outputs": [],
   "source": [
    "import pandas as pd"
   ]
  },
  {
   "cell_type": "code",
   "execution_count": 2,
   "metadata": {},
   "outputs": [],
   "source": [
    "def open_clean_csv(year):\n",
    "\n",
    "    pollution=pd.read_csv(f\"./pollution_madrid/madrid_{year}.csv\")\n",
    "    \n",
    "    if \"NOx\" not in list(pollution.columns):\n",
    "        pollution=pollution.assign(NOx=\"nan\")\n",
    "        \n",
    "    col_to_keep=[\"date\",\"CO\",\"NO_2\",\"NOx\", \"O_3\", \"PM10\", \"PM25\", \"SO_2\"]\n",
    "    cols_to_drop=[col for col in pollution if col not in col_to_keep]\n",
    "    \n",
    "    pollution.drop(cols_to_drop,axis=1,inplace=True)\n",
    "    pollution[\"date\"]=pollution[\"date\"].str.split(\" \").str[0]\n",
    "    \n",
    "    new_df = pollution.groupby(\"date\").mean().reset_index()\n",
    "    if \"NOx\" not in list(new_df.columns):\n",
    "        new_df=new_df.assign(NOx=\"nan\")\n",
    "    new_df = new_df[[\"date\",\"CO\",\"NO_2\",\"NOx\", \"O_3\", \"PM10\", \"PM25\", \"SO_2\"]]\n",
    "    return new_df"
   ]
  },
  {
   "cell_type": "code",
   "execution_count": 3,
   "metadata": {},
   "outputs": [],
   "source": [
    "poll_mad = pd.DataFrame()\n",
    "for year in range(2008,2019):\n",
    "    df_year=open_clean_csv(year)\n",
    "    poll_mad=poll_mad.append(df_year,ignore_index=True)\n",
    "poll_mad=poll_mad.assign(city=\"madrid\")"
   ]
  },
  {
   "cell_type": "code",
   "execution_count": 6,
   "metadata": {},
   "outputs": [],
   "source": [
    "poll_mad.to_pickle('./pickles/madrid_pollution.pkl')"
   ]
  }
 ],
 "metadata": {
  "kernelspec": {
   "display_name": "Python 3",
   "language": "python",
   "name": "python3"
  },
  "language_info": {
   "codemirror_mode": {
    "name": "ipython",
    "version": 3
   },
   "file_extension": ".py",
   "mimetype": "text/x-python",
   "name": "python",
   "nbconvert_exporter": "python",
   "pygments_lexer": "ipython3",
   "version": "3.7.4"
  }
 },
 "nbformat": 4,
 "nbformat_minor": 2
}
